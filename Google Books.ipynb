{
 "cells": [
  {
   "cell_type": "markdown",
   "metadata": {},
   "source": [
    "### Imports"
   ]
  },
  {
   "cell_type": "code",
   "execution_count": 3,
   "metadata": {},
   "outputs": [],
   "source": [
    "from random import random\n",
    "from random import seed\n",
    "from random import randint\n",
    "import os\n",
    "import numpy as np"
   ]
  },
  {
   "cell_type": "markdown",
   "metadata": {},
   "source": [
    "### Score Metrics: TOS and ADS"
   ]
  },
  {
   "cell_type": "code",
   "execution_count": 6,
   "metadata": {},
   "outputs": [],
   "source": [
    "def score_metrics(scores, nbooks, signup, dailyLimit, daysLeft): \n",
    "    # total offered score (TOS): the max score that the library can provide in the remaining days including signup\n",
    "    # average daily score (ADS): approx daily offering based on TOS\n",
    "    # scores: sorted list of remaining books\n",
    "    # nbooks: number of books\n",
    "    # signup: signup time in days\n",
    "    # dailylLimit: number of books scanned daily\n",
    "    # daysLeft: number of remaining days\n",
    "    \n",
    "    # reqDays: days required to scan all books\n",
    "    # scanDays: days available to scan all books\n",
    "    # nleftover: extra books that cannot be scanned\n",
    "    \n",
    "    if signup >= daysLeft:\n",
    "        return 0,0 \n",
    "    \n",
    "    totalScore = sum(scores)\n",
    "    reqDays = nbooks/dailyLimit\n",
    "    scanDays = daysLeft - signup\n",
    "    \n",
    "    nleftover = nbooks - (dailyLimit * scanDays)\n",
    "    \n",
    "    if nleftover < 0:\n",
    "        nleftover = 0\n",
    "    \n",
    "    tos = sum(scores[:len(scores)-nleftover])\n",
    "    \n",
    "    if scanDays >= reqDays:\n",
    "        ads = tos/(reqDays+signup)\n",
    "    else:\n",
    "        ads = tos/(scanDays+signup)\n",
    "        \n",
    "    \n",
    "    return tos,ads    "
   ]
  },
  {
   "cell_type": "markdown",
   "metadata": {},
   "source": [
    "### Credit Metrics"
   ]
  },
  {
   "cell_type": "code",
   "execution_count": 7,
   "metadata": {},
   "outputs": [],
   "source": [
    "def credit_metrics(tos,ads,signup):\n",
    "    # TOS: total offered score\n",
    "    # ADS: average daily score\n",
    "    # signup: signup time in days\n",
    "    \n",
    "    credit = (tos*ads)/signup\n",
    "    return credit"
   ]
  },
  {
   "cell_type": "markdown",
   "metadata": {},
   "source": [
    "### Class Definitions"
   ]
  },
  {
   "cell_type": "code",
   "execution_count": 4,
   "metadata": {},
   "outputs": [],
   "source": [
    "class Library():\n",
    "    \n",
    "    def __init__(self,**kwargs):\n",
    "        self.name = kwargs.pop('name')\n",
    "        self.signup = kwargs.pop('signup')\n",
    "        self.dailyLimit = kwargs.pop('dailyLimit')\n",
    "        self.nbooks = kwargs.pop('nbooks')\n",
    "        self.scores = kwargs.pop('scores')\n",
    "        self.indexes = kwargs.pop('indexes')\n",
    "        self.totalScore = sum(self.scores)\n",
    "        self.tos = 0\n",
    "        self.ads = 0        \n",
    "        self.credit = 0\n",
    "        return\n",
    "    \n",
    "    def scoreIndexMap(self):\n",
    "        s = sorted(zip(self.scores,self.indexes))\n",
    "        self.scores,self.indexes = map(list, zip(*s))\n",
    "        del(s)\n",
    "        return\n",
    "    \n",
    "    def getMetrics(self,**kwargs):\n",
    "        daysLeft = kwargs.pop('daysLeft')\n",
    "        self.tos,self.ads = score_metrics(self.scores, self.nbooks, self.signup, self.dailyLimit, daysLeft)\n",
    "        self.credit = credit_metrics(self.tos,self.ads,self.signup)\n",
    "        return\n",
    "    \n",
    "    def showDetails(self,flag='v'):\n",
    "        if flag == 'v':\n",
    "            print('{}:\\n nbooks: {}\\n Sum: {}\\n Daily Limit: {}\\n Signup: {}\\n TOS: {}\\n ADS: {:.2f}\\n Credit: {:.2f}\\n Scores: {}\\n Indexes: {}\\n\\n'.format(self.name,self.nbooks,self.totalScore,self.dailyLimit,self.signup,self.tos,self.ads,self.credit,self.scores,self.indexes))\n",
    "        elif flag == 'm':\n",
    "            print('{}:\\n TOS: {}\\n ADS: {:.2f}\\n Signup: {}\\n Credit: {:.2f}\\n Scores: {}\\n Indexes: {}\\n\\n'.format(self.name,self.tos,self.ads,self.signup,self.credit,self.scores,self.indexes))\n",
    "\n",
    "def outputLibrary():\n",
    "    \n",
    "    def __init__(self,index,bookList):\n",
    "        self.index = index\n",
    "        self.bookList = bookList\n",
    "        self.nbooks = len(bookList)"
   ]
  },
  {
   "cell_type": "markdown",
   "metadata": {},
   "source": [
    "### Testing Functions"
   ]
  },
  {
   "cell_type": "code",
   "execution_count": 32,
   "metadata": {},
   "outputs": [
    {
     "name": "stdout",
     "output_type": "stream",
     "text": [
      " Score List: [225, 36, 20, 11, 1, 1, 1, 1, 1, 1, 1, 1]\n",
      " Sum: 300\n",
      "\n"
     ]
    }
   ],
   "source": [
    "def generateBookScores(totalScore, nbooks):\n",
    "    # totalScore: the max score of book list\n",
    "    # nbooks: the number of books in the list\n",
    "    \n",
    "    # scoreList: final scores of argument specifications\n",
    "    \n",
    "    scoreList = []\n",
    "    runningTotal = totalScore\n",
    "    runningIndex = nbooks\n",
    "    \n",
    "    for i in range(nbooks):\n",
    "        initialLimit = runningTotal - runningIndex\n",
    "        score = randint(1,initialLimit)\n",
    "        scoreList.append(score)\n",
    "        runningTotal -= score\n",
    "        runningIndex -= 1\n",
    "    \n",
    "    extra = totalScore - sum(scoreList)\n",
    "    scoreList[randint(0,nbooks-1)] += extra\n",
    "    \n",
    "    scoreList.sort(reverse=True)\n",
    "    return scoreList\n",
    "\n",
    "scores = generateBookScores(300,12)\n",
    "print(' Score List: {}\\n Sum: {}\\n'.format(scores,sum(scores)))"
   ]
  },
  {
   "cell_type": "markdown",
   "metadata": {},
   "source": [
    "### Testing Zone"
   ]
  },
  {
   "cell_type": "code",
   "execution_count": null,
   "metadata": {},
   "outputs": [],
   "source": [
    "\n",
    "libraryList = []\n",
    "\n",
    "libraryList.append(Library(nbooks = 12, scores=generateBookScores(30,12), signup=30, dailyLimit=1, name='L1'))\n",
    "libraryList.append(Library(nbooks = 12, scores=generateBookScores(40,12), signup=50, dailyLimit=1, name='L2'))\n",
    "libraryList.append(Library(nbooks = 12, scores=generateBookScores(60,12), signup=60, dailyLimit=1, name='L3'))\n",
    "\n",
    "D = 100\n",
    "for daysLeft in range(D,1,-10):\n",
    "    flag = 1\n",
    "    if daysLeft != D:\n",
    "        for lib in libraryList:\n",
    "            if daysLeft == lib.signup or daysLeft == (D-lib.signup):\n",
    "                flag = 0\n",
    "    \n",
    "    if flag == 1 and daysLeft != D:\n",
    "        continue\n",
    "            \n",
    "    print(f' t = {D-daysLeft} \\t Days left: {daysLeft}\\n')\n",
    "    for lib in libraryList:\n",
    "        lib.getMetrics(daysLeft=daysLeft)\n",
    "        lib.showDetails('m')\n",
    "\n",
    "    print('_____________________________________________________________\\n')        "
   ]
  },
  {
   "cell_type": "markdown",
   "metadata": {},
   "source": [
    "### Input "
   ]
  },
  {
   "cell_type": "code",
   "execution_count": 9,
   "metadata": {
    "scrolled": false
   },
   "outputs": [
    {
     "name": "stdout",
     "output_type": "stream",
     "text": [
      " B: 6\n",
      " S: [1, 2, 3, 6, 5, 4]\n",
      " NSEEN:[0, 1, 2, 3, 4, 5]\n",
      " SEEN:[]\n",
      "\n",
      " NL: 2\n",
      " D: 7\n",
      "\n",
      " Library Data:\n",
      "\n",
      "L0:\n",
      " nbooks: 5\n",
      " Sum: 17\n",
      " Daily Limit: 2\n",
      " Signup: 2\n",
      " TOS: 17\n",
      " ADS: 3.78\n",
      " Credit: 32.11\n",
      " Scores: [1, 2, 3, 5, 6]\n",
      " Indexes: [0, 1, 2, 4, 3]\n",
      "\n",
      "\n",
      "L1:\n",
      " nbooks: 4\n",
      " Sum: 14\n",
      " Daily Limit: 1\n",
      " Signup: 3\n",
      " TOS: 14\n",
      " ADS: 2.00\n",
      " Credit: 9.33\n",
      " Scores: [1, 3, 4, 6]\n",
      " Indexes: [0, 2, 5, 3]\n",
      "\n",
      "\n"
     ]
    }
   ],
   "source": [
    "# File to be read\n",
    "input_filename = 'a_example.txt'\n",
    "\n",
    "# File read and format\n",
    "f = open(input_filename,'r')\n",
    "data = f.read().split('\\n')\n",
    "for i in range(len(data)):\n",
    "    data[i] = list(map(int,data[i].split()))\n",
    "data = data[:-1]\n",
    "\n",
    "# Global variables\n",
    "B = data[0][0]                    # Total number of books\n",
    "NSEEN = [x for x in range(B)]     # Indexes of books not seen\n",
    "SEEN = []                         # Indexes of books already seen\n",
    "S = data[1]                       # Scores of each books\n",
    "score_map = lambda i: S[i]\n",
    "\n",
    "NL = data[0][1]                  # Number of libraries\n",
    "D = data[0][2]                   # Number of days\n",
    "\n",
    "# Library objects\n",
    "libraryList = []\n",
    "for i in range(2,len(data),2):\n",
    "    scores = list(map(score_map,data[i+1]))\n",
    "    libraryList.append(Library(nbooks=data[i][0], \n",
    "                               scores=scores, \n",
    "                               indexes = data[i+1],\n",
    "                               signup=data[i][1], \n",
    "                               dailyLimit=data[i][2], \n",
    "                               name='L{:.0f}'.format((i/2)-1)))\n",
    "    \n",
    "f.close()\n",
    "\n",
    "print(f' B: {B}\\n S: {S}\\n NSEEN:{NSEEN}\\n SEEN:{SEEN}\\n\\n NL: {NL}\\n D: {D}\\n\\n Library Data:\\n')\n",
    "for lib in libraryList:\n",
    "    lib.scoreIndexMap()\n",
    "    lib.getMetrics(daysLeft=D)\n",
    "    lib.showDetails()\n",
    "\n"
   ]
  },
  {
   "cell_type": "markdown",
   "metadata": {},
   "source": [
    "### Output"
   ]
  },
  {
   "cell_type": "code",
   "execution_count": 10,
   "metadata": {},
   "outputs": [
    {
     "name": "stdout",
     "output_type": "stream",
     "text": [
      "a_example_result.txt\n"
     ]
    }
   ],
   "source": [
    "# Filename\n",
    "output_filename = input_filename[:-4] + '_result.txt'\n",
    "\n",
    "string_lambda = lambda x: \n",
    "\n",
    "# File write\n",
    "f = open(output_filename,'w',newline='\\n')\n",
    "outputLibraryList = [] # list of outputLibrary objects\n",
    "f.write(f'{len(outputLibraryList)}\\n')\n",
    "for lib in outputLibraryList:\n",
    "    f.write(f'{lib.index} {lib.nbooks}\\n')\n",
    "    f.write(' '.join(str(x) for x in lib.bookList))\n",
    "    f.write('\\n')\n",
    "f.close()\n",
    "\n",
    "# Done\n",
    "print(' Result saved\\n')"
   ]
  }
 ],
 "metadata": {
  "kernelspec": {
   "display_name": "Python 3",
   "language": "python",
   "name": "python3"
  },
  "language_info": {
   "codemirror_mode": {
    "name": "ipython",
    "version": 3
   },
   "file_extension": ".py",
   "mimetype": "text/x-python",
   "name": "python",
   "nbconvert_exporter": "python",
   "pygments_lexer": "ipython3",
   "version": "3.7.4"
  }
 },
 "nbformat": 4,
 "nbformat_minor": 2
}
