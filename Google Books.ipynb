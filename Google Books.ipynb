{
 "cells": [
  {
   "cell_type": "markdown",
   "metadata": {},
   "source": [
    "### Imports"
   ]
  },
  {
   "cell_type": "code",
   "execution_count": 67,
   "metadata": {},
   "outputs": [],
   "source": [
    "from random import random\n",
    "from random import seed\n",
    "from random import randint\n",
    "import os\n",
    "import numpy as np"
   ]
  },
  {
   "cell_type": "markdown",
   "metadata": {},
   "source": [
    "### Score Metrics: TOS and ADS"
   ]
  },
  {
   "cell_type": "code",
   "execution_count": 23,
   "metadata": {},
   "outputs": [],
   "source": [
    "def score_metrics(scores, nbooks, signup, dailyLimit, daysLeft): \n",
    "    # total offered score (TOS): the max score that the library can provide in the remaining days including signup\n",
    "    # average daily score (ADS): approx daily offering based on TOS\n",
    "    # scores: sorted list of remaining books\n",
    "    # nbooks: number of books\n",
    "    # signup: signup time in days\n",
    "    # dailylLimit: number of books scanned daily\n",
    "    # daysLeft: number of remaining days\n",
    "    \n",
    "    # reqDays: days required to scan all books\n",
    "    # nleftover: extra books that cannot be scanned\n",
    "    \n",
    "    if signup >= daysLeft:\n",
    "        return 0,0 \n",
    "    \n",
    "    totalScore = sum(scores)\n",
    "    reqDays = nbooks/dailyLimit\n",
    "    scanDays = daysLeft - signup\n",
    "    \n",
    "    nleftover = nbooks - (dailyLimit * scanDays)\n",
    "    \n",
    "    if nleftover < 0:\n",
    "        nleftover = 0\n",
    "    \n",
    "    tos = sum(scores[:len(scores)-nleftover])\n",
    "    \n",
    "    if scanDays >= reqDays:\n",
    "        ads = tos/reqDays\n",
    "    else:\n",
    "        ads = tos/scanDays\n",
    "        \n",
    "    \n",
    "    return tos,ads    \n"
   ]
  },
  {
   "cell_type": "markdown",
   "metadata": {},
   "source": [
    "### Class Definitions"
   ]
  },
  {
   "cell_type": "code",
   "execution_count": 268,
   "metadata": {},
   "outputs": [],
   "source": [
    "class Library():\n",
    "    \n",
    "    def __init__(self,**kwargs):\n",
    "        self.name = kwargs.pop('name')\n",
    "        self.signup = kwargs.pop('signup')\n",
    "        self.dailyLimit = kwargs.pop('dailyLimit')\n",
    "        self.nbooks = len(scores)\n",
    "        self.scores = kwargs.pop('scores')\n",
    "        self.totalScore = sum(scores)\n",
    "        self.tos = 0\n",
    "        self.ads = 0        \n",
    "        self.credit = 0\n",
    "        return\n",
    "    \n",
    "    def getScoreMetrics(self,**kwargs):\n",
    "        self.tos,self.ads = score_metrics(self.scores, self.nbooks, self.signup, self.dailyLimit, daysLeft)\n",
    "        return\n",
    "    \n",
    "    def showDetails(self, name=''):\n",
    "        print('{}:\\n nbooks: {}\\n Sum: {}\\n Daily Limit: {}\\n Signup: {}\\n TOS: {}\\n ADS: {}\\n Credit: {}\\n Scores: {}\\n\\n'.format(self.name,self.nbooks,self.totalScore,self.dailyLimit,self.signup,self.tos,self.ads,self.credit,self.scores))"
   ]
  },
  {
   "cell_type": "markdown",
   "metadata": {},
   "source": [
    "### Testing Functions"
   ]
  },
  {
   "cell_type": "code",
   "execution_count": 184,
   "metadata": {},
   "outputs": [
    {
     "name": "stdout",
     "output_type": "stream",
     "text": [
      " Score List: [238, 31, 10, 4, 4, 4, 3, 2, 1, 1, 1, 1]\n",
      " Sum: 300\n",
      "\n"
     ]
    }
   ],
   "source": [
    "def generateBookScores(totalScore, nbooks):\n",
    "    # totalScore: the max score of book list\n",
    "    # nbooks: the number of books in the list\n",
    "    \n",
    "    # scoreList: final scores of argument specifications\n",
    "    \n",
    "    scoreList = []\n",
    "    runningTotal = totalScore\n",
    "    runningIndex = nbooks\n",
    "    \n",
    "    for i in range(nbooks):\n",
    "        initialLimit = runningTotal - runningIndex\n",
    "        score = randint(1,initialLimit)\n",
    "        scoreList.append(score)\n",
    "        runningTotal -= score\n",
    "        runningIndex -= 1\n",
    "    \n",
    "    extra = totalScore - sum(scoreList)\n",
    "    scoreList[randint(0,nbooks-1)] += extra\n",
    "    \n",
    "    scoreList.sort(reverse=True)\n",
    "    return scoreList\n",
    "\n",
    "scores = generateBookScores(300,12)\n",
    "print(' Score List: {}\\n Sum: {}\\n'.format(scores,sum(scores)))"
   ]
  },
  {
   "cell_type": "markdown",
   "metadata": {},
   "source": [
    "### Driver"
   ]
  },
  {
   "cell_type": "code",
   "execution_count": 269,
   "metadata": {},
   "outputs": [
    {
     "name": "stdout",
     "output_type": "stream",
     "text": [
      "L1:\n",
      " nbooks: 12\n",
      " Sum: 30\n",
      " Daily Limit: 2\n",
      " Signup: 6\n",
      " TOS: 0\n",
      " ADS: 0\n",
      " Credit: 0\n",
      " Scores: [8, 7, 3, 2, 2, 2, 1, 1, 1, 1, 1, 1]\n",
      "\n",
      "\n"
     ]
    }
   ],
   "source": [
    "nbooks = 12\n",
    "scores = generateBookScores(30,nbooks)\n",
    "signup = 6\n",
    "dailyLimit = 2\n",
    "daysLeft = 6\n",
    "name = 'L1'\n",
    "\n",
    "L1 = Library(nbooks=nbooks, scores=scores, signup=signup, dailyLimit=dailyLimit, name=name)\n",
    "L1.getScoreMetrics(daysLeft=daysLeft)\n",
    "L1.showDetails()"
   ]
  },
  {
   "cell_type": "markdown",
   "metadata": {},
   "source": [
    "### Input (original)"
   ]
  },
  {
   "cell_type": "code",
   "execution_count": 52,
   "metadata": {},
   "outputs": [
    {
     "name": "stdout",
     "output_type": "stream",
     "text": [
      "[[6, 2, 7], [1, 2, 3, 6, 5, 4], [5, 2, 2], [0, 1, 2, 3, 4], [4, 3, 1], [0, 2, 3, 5], []]\n"
     ]
    },
    {
     "data": {
      "text/plain": [
       "2"
      ]
     },
     "execution_count": 52,
     "metadata": {},
     "output_type": "execute_result"
    }
   ],
   "source": [
    "# f = open('a_example.txt','r')\n",
    "# f = f.read().split('\\n')\n",
    "\n",
    "# for i in range(len(f)):\n",
    "#     f[i] = list(map(int,f[i].split()))\n",
    "# print(f)\n",
    "# no_books = f[0][0]\n",
    "# no_libraries = f[0][1]\n",
    "# no_days = f[0][2]\n",
    "# no_days_left = f[0][2]\n",
    "# scores = f[1]\n",
    "\n",
    "# libraries = []\n",
    "# for i in range(0,no_libraries*2,2):\n",
    "#     libraries.append(library(f[2+i][0],f[2+i][1],f[2+i][2],f[3+i]))\n",
    "\n",
    "# len(libraries)"
   ]
  }
 ],
 "metadata": {
  "kernelspec": {
   "display_name": "Python 3",
   "language": "python",
   "name": "python3"
  },
  "language_info": {
   "codemirror_mode": {
    "name": "ipython",
    "version": 3
   },
   "file_extension": ".py",
   "mimetype": "text/x-python",
   "name": "python",
   "nbconvert_exporter": "python",
   "pygments_lexer": "ipython3",
   "version": "3.7.4"
  }
 },
 "nbformat": 4,
 "nbformat_minor": 2
}
