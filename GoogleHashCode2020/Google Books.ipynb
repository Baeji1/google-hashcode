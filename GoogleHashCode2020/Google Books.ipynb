{
 "cells": [
  {
   "cell_type": "markdown",
   "metadata": {},
   "source": [
    "### Imports"
   ]
  },
  {
   "cell_type": "code",
   "execution_count": 1,
   "metadata": {},
   "outputs": [],
   "source": [
    "%%capture\n",
    "from tqdm import tqdm_notebook as tqdm\n",
    "tqdm().pandas()\n",
    "from random import random\n",
    "from random import seed\n",
    "from random import randint"
   ]
  },
  {
   "cell_type": "markdown",
   "metadata": {},
   "source": [
    "### Score Metrics: TOS and ADS"
   ]
  },
  {
   "cell_type": "code",
   "execution_count": 2,
   "metadata": {},
   "outputs": [],
   "source": [
    "def score_metrics(scores, nbooks, signup, dailyLimit, daysLeft): \n",
    "    # total offered score (TOS): the max score that the library can provide in the remaining days including signup\n",
    "    # average daily score (ADS): approx daily offering based on TOS\n",
    "    # scores: sorted list of remaining books\n",
    "    # nbooks: number of books\n",
    "    # signup: signup time in days\n",
    "    # dailylLimit: number of books scanned daily\n",
    "    # daysLeft: number of remaining days\n",
    "    \n",
    "    # reqDays: days required to scan all books\n",
    "    # scanDays: days available to scan all books\n",
    "    # nleftover: extra books that cannot be scanned\n",
    "    \n",
    "    if signup >= daysLeft:\n",
    "        return 0,0 \n",
    "    \n",
    "    totalScore = sum(scores)\n",
    "    reqDays = nbooks/dailyLimit\n",
    "    scanDays = daysLeft - signup\n",
    "    \n",
    "    nleftover = nbooks - (dailyLimit * scanDays)\n",
    "    \n",
    "    if nleftover < 0:\n",
    "        nleftover = 0\n",
    "    \n",
    "    tos = sum(scores[:len(scores)-nleftover])\n",
    "    \n",
    "    if scanDays >= reqDays:\n",
    "        ads = tos/(reqDays+signup)\n",
    "    else:\n",
    "        ads = tos/(scanDays+signup)\n",
    "        \n",
    "    \n",
    "    return tos,ads    "
   ]
  },
  {
   "cell_type": "markdown",
   "metadata": {},
   "source": [
    "### Credit Metrics"
   ]
  },
  {
   "cell_type": "code",
   "execution_count": 3,
   "metadata": {},
   "outputs": [],
   "source": [
    "def credit_metrics(tos,ads,signup):\n",
    "    # TOS: total offered score\n",
    "    # ADS: average daily score\n",
    "    # signup: signup time in days\n",
    "    # credit: final evaluation metric\n",
    "    \n",
    "    credit = (tos*ads)/signup\n",
    "    return credit"
   ]
  },
  {
   "cell_type": "markdown",
   "metadata": {},
   "source": [
    "### Find Max Credit"
   ]
  },
  {
   "cell_type": "code",
   "execution_count": 4,
   "metadata": {},
   "outputs": [],
   "source": [
    "def find_max_credit(libraryList):\n",
    "    # libraryList: list of Library objects\n",
    "    # m: max credit value\n",
    "    # x: index of max value\n",
    "    \n",
    "    if len(libraryList) == 0:\n",
    "        return -1,-1\n",
    "    \n",
    "    m = libraryList[0].credit\n",
    "    x = 0\n",
    "    for i in range(len(libraryList)):\n",
    "        if libraryList[i].credit > m:\n",
    "            m = libraryList[i].credit\n",
    "            x = i\n",
    "    return m,x        "
   ]
  },
  {
   "cell_type": "markdown",
   "metadata": {},
   "source": [
    "### Update Scores "
   ]
  },
  {
   "cell_type": "code",
   "execution_count": 5,
   "metadata": {},
   "outputs": [],
   "source": [
    "def update_scores(libraryList,SEEN):\n",
    "    # libraryList: list of Library objects\n",
    "    # SEEN: indexes of scanned books\n",
    "    for lib in tqdm(libraryList,desc='Update libraries',leave=False):\n",
    "        for i in range(len(lib.indexes)):\n",
    "            for scanID in SEEN:\n",
    "                if lib.indexes[i] == scanID:\n",
    "                    lib.indexes[i] = -1\n",
    "                    lib.scores[i] = -1\n",
    "        lib.indexes = [value for value in lib.indexes if value != -1]\n",
    "        lib.scores = [value for value in lib.scores if value != -1] \n",
    "        \n",
    "                \n",
    "    return"
   ]
  },
  {
   "cell_type": "markdown",
   "metadata": {},
   "source": [
    "### Class Definitions"
   ]
  },
  {
   "cell_type": "code",
   "execution_count": 6,
   "metadata": {},
   "outputs": [],
   "source": [
    "class Library():\n",
    "    \n",
    "    def __init__(self,**kwargs):\n",
    "        self.name = kwargs.pop('name')\n",
    "        self.signup = kwargs.pop('signup')\n",
    "        self.dailyLimit = kwargs.pop('dailyLimit')\n",
    "        self.nbooks = kwargs.pop('nbooks')\n",
    "        self.scores = kwargs.pop('scores')\n",
    "        self.indexes = kwargs.pop('indexes')\n",
    "        self.totalScore = sum(self.scores)\n",
    "        self.tos = 0\n",
    "        self.ads = 0        \n",
    "        self.credit = 0\n",
    "        return\n",
    "    \n",
    "    def scoreIndexMap(self):                           # sort index and scores based on scores desc.\n",
    "        s = sorted(zip(self.scores,self.indexes),reverse=True)\n",
    "        self.scores,self.indexes = map(list, zip(*s))\n",
    "        del(s)\n",
    "        return\n",
    "    \n",
    "    def getMetrics(self,**kwargs):\n",
    "        daysLeft = kwargs.pop('daysLeft')\n",
    "        self.tos,self.ads = score_metrics(self.scores, self.nbooks, self.signup, self.dailyLimit, daysLeft)\n",
    "        self.credit = credit_metrics(self.tos,self.ads,self.signup)\n",
    "        return\n",
    "    \n",
    "    def showDetails(self,flag='v'):\n",
    "        if flag == 'v':\n",
    "            print('{}:\\n nbooks: {}\\n Sum: {}\\n Daily Limit: {}\\n Signup: {}\\n TOS: {}\\n ADS: {:.2f}\\n Credit: {:.2f}\\n Scores: {}\\n Indexes: {}\\n\\n'.format(self.name,self.nbooks,self.totalScore,self.dailyLimit,self.signup,self.tos,self.ads,self.credit,self.scores,self.indexes))\n",
    "        elif flag == 'm':\n",
    "            print('{}:\\n TOS: {}\\n ADS: {:.2f}\\n Signup: {}\\n Credit: {:.2f}\\n Scores: {}\\n Indexes: {}\\n\\n'.format(self.name,self.tos,self.ads,self.signup,self.credit,self.scores,self.indexes))\n",
    "\n",
    "class outputLibrary():\n",
    "    \n",
    "    def __init__(self,index,bookList):\n",
    "        self.index = index\n",
    "        self.bookList = bookList\n",
    "        self.nbooks = len(bookList)\n",
    "        return"
   ]
  },
  {
   "cell_type": "markdown",
   "metadata": {},
   "source": [
    "### Testing Functions"
   ]
  },
  {
   "cell_type": "code",
   "execution_count": 32,
   "metadata": {},
   "outputs": [
    {
     "name": "stdout",
     "output_type": "stream",
     "text": [
      " Score List: [225, 36, 20, 11, 1, 1, 1, 1, 1, 1, 1, 1]\n",
      " Sum: 300\n",
      "\n"
     ]
    }
   ],
   "source": [
    "def generateBookScores(totalScore, nbooks):\n",
    "    # totalScore: the max score of book list\n",
    "    # nbooks: the number of books in the list\n",
    "    \n",
    "    # scoreList: final scores of argument specifications\n",
    "    \n",
    "    scoreList = []\n",
    "    runningTotal = totalScore\n",
    "    runningIndex = nbooks\n",
    "    \n",
    "    for i in range(nbooks):\n",
    "        initialLimit = runningTotal - runningIndex\n",
    "        score = randint(1,initialLimit)\n",
    "        scoreList.append(score)\n",
    "        runningTotal -= score\n",
    "        runningIndex -= 1\n",
    "    \n",
    "    extra = totalScore - sum(scoreList)\n",
    "    scoreList[randint(0,nbooks-1)] += extra\n",
    "    \n",
    "    scoreList.sort(reverse=True)\n",
    "    return scoreList\n",
    "\n",
    "scores = generateBookScores(300,12)\n",
    "print(' Score List: {}\\n Sum: {}\\n'.format(scores,sum(scores)))"
   ]
  },
  {
   "cell_type": "markdown",
   "metadata": {},
   "source": [
    "### Testing Zone"
   ]
  },
  {
   "cell_type": "code",
   "execution_count": null,
   "metadata": {},
   "outputs": [],
   "source": [
    "\n",
    "libraryList = []\n",
    "\n",
    "libraryList.append(Library(nbooks = 12, scores=generateBookScores(30,12), signup=30, dailyLimit=1, name='L1'))\n",
    "libraryList.append(Library(nbooks = 12, scores=generateBookScores(40,12), signup=50, dailyLimit=1, name='L2'))\n",
    "libraryList.append(Library(nbooks = 12, scores=generateBookScores(60,12), signup=60, dailyLimit=1, name='L3'))\n",
    "\n",
    "D = 100\n",
    "for daysLeft in range(D,1,-10):\n",
    "    flag = 1\n",
    "    if daysLeft != D:\n",
    "        for lib in libraryList:\n",
    "            if daysLeft == lib.signup or daysLeft == (D-lib.signup):\n",
    "                flag = 0\n",
    "    \n",
    "    if flag == 1 and daysLeft != D:\n",
    "        continue\n",
    "            \n",
    "    print(f' t = {D-daysLeft} \\t Days left: {daysLeft}\\n')\n",
    "    for lib in libraryList:\n",
    "        lib.getMetrics(daysLeft=daysLeft)\n",
    "        lib.showDetails('m')\n",
    "\n",
    "    print('_____________________________________________________________\\n')        "
   ]
  },
  {
   "cell_type": "markdown",
   "metadata": {},
   "source": [
    "### Input "
   ]
  },
  {
   "cell_type": "code",
   "execution_count": 12,
   "metadata": {},
   "outputs": [
    {
     "data": {
      "application/vnd.jupyter.widget-view+json": {
       "model_id": "a52edccdd3714eec802249cbc5b83de0",
       "version_major": 2,
       "version_minor": 0
      },
      "text/plain": [
       "HBox(children=(IntProgress(value=0, description='Generating Library objects', layout=Layout(flex='2'), max=2, …"
      ]
     },
     "metadata": {},
     "output_type": "display_data"
    },
    {
     "name": "stdout",
     "output_type": "stream",
     "text": [
      "\n"
     ]
    },
    {
     "data": {
      "application/vnd.jupyter.widget-view+json": {
       "model_id": "400ea0640ee14024a2c4cbc7922ad965",
       "version_major": 2,
       "version_minor": 0
      },
      "text/plain": [
       "HBox(children=(IntProgress(value=0, description='Generating Metrics', layout=Layout(flex='2'), max=2, style=Pr…"
      ]
     },
     "metadata": {},
     "output_type": "display_data"
    },
    {
     "name": "stdout",
     "output_type": "stream",
     "text": [
      "L0:\n",
      " nbooks: 5\n",
      " Sum: 17\n",
      " Daily Limit: 2\n",
      " Signup: 2\n",
      " TOS: 17\n",
      " ADS: 3.78\n",
      " Credit: 32.11\n",
      " Scores: [6, 5, 3, 2, 1]\n",
      " Indexes: [3, 4, 2, 1, 0]\n",
      "\n",
      "\n",
      "L1:\n",
      " nbooks: 4\n",
      " Sum: 14\n",
      " Daily Limit: 1\n",
      " Signup: 3\n",
      " TOS: 14\n",
      " ADS: 2.00\n",
      " Credit: 9.33\n",
      " Scores: [6, 4, 3, 1]\n",
      " Indexes: [3, 5, 2, 0]\n",
      "\n",
      "\n",
      "\n",
      " Finished\n"
     ]
    }
   ],
   "source": [
    "# File to be read\n",
    "input_filename = 'a_example.txt'\n",
    "\n",
    "# File read and format\n",
    "f = open(input_filename,'r')\n",
    "data = f.read().split('\\n')\n",
    "for i in range(len(data)):\n",
    "    data[i] = list(map(int,data[i].split()))\n",
    "\n",
    "# Global variables\n",
    "B = data[0][0]                    # Total number of books\n",
    "NSEEN = [x for x in range(B)]     # Indexes of books not seen\n",
    "SEEN = []                         # Indexes of books already seen\n",
    "S = data[1]                       # Scores of each books\n",
    "score_map = lambda i: S[i]        # Map book index to scores\n",
    "\n",
    "removeFlag = 0\n",
    "while removeFlag == 0:            # Remove empty arrays from list\n",
    "    try:\n",
    "        data.remove([])\n",
    "    except:\n",
    "        removeFlag = 1\n",
    "\n",
    "NL = data[0][1]                  # Number of libraries\n",
    "D = data[0][2]                   # Number of days\n",
    "\n",
    "# Library objects\n",
    "libraryList = []\n",
    "for i in tqdm(range(2,len(data),2),desc='Generating Library objects',ncols=700):\n",
    "    scores = list(map(score_map,data[i+1]))\n",
    "    libraryList.append(Library(nbooks=data[i][0], \n",
    "                               scores=scores, \n",
    "                               indexes = data[i+1],\n",
    "                               signup=data[i][1], \n",
    "                               dailyLimit=data[i][2], \n",
    "                               name='L{:.0f}'.format((i/2)-1)))\n",
    "    \n",
    "f.close()\n",
    "\n",
    "# print(f' B: {B}\\n S: {S}\\n NSEEN:{NSEEN}\\n SEEN:{SEEN}\\n\\n NL: {NL}\\n D: {D}\\n\\n')\n",
    "for lib in tqdm(libraryList,desc='Generating Metrics',ncols=700):\n",
    "    lib.scoreIndexMap()\n",
    "    lib.getMetrics(daysLeft=D)\n",
    "    lib.showDetails()\n",
    "\n",
    "print(' Finished')\n"
   ]
  },
  {
   "cell_type": "markdown",
   "metadata": {},
   "source": [
    "###  Main"
   ]
  },
  {
   "cell_type": "code",
   "execution_count": 11,
   "metadata": {},
   "outputs": [
    {
     "data": {
      "application/vnd.jupyter.widget-view+json": {
       "model_id": "09858663c4594208bc0837860bc2fdb0",
       "version_major": 2,
       "version_minor": 0
      },
      "text/plain": [
       "HBox(children=(IntProgress(value=0, description='Generating output objects', layout=Layout(flex='2'), max=7, s…"
      ]
     },
     "metadata": {},
     "output_type": "display_data"
    },
    {
     "name": "stdout",
     "output_type": "stream",
     "text": [
      "Add: 17\n",
      "0, "
     ]
    },
    {
     "data": {
      "application/vnd.jupyter.widget-view+json": {
       "model_id": "",
       "version_major": 2,
       "version_minor": 0
      },
      "text/plain": [
       "HBox(children=(IntProgress(value=0, description='Update libraries', max=1, style=ProgressStyle(description_wid…"
      ]
     },
     "metadata": {},
     "output_type": "display_data"
    },
    {
     "name": "stdout",
     "output_type": "stream",
     "text": [
      "Add: 0\n",
      "1, "
     ]
    },
    {
     "data": {
      "application/vnd.jupyter.widget-view+json": {
       "model_id": "",
       "version_major": 2,
       "version_minor": 0
      },
      "text/plain": [
       "HBox(children=(IntProgress(value=1, bar_style='info', description='Update libraries', max=1, style=ProgressSty…"
      ]
     },
     "metadata": {},
     "output_type": "display_data"
    },
    {
     "name": "stdout",
     "output_type": "stream",
     "text": [
      "\n",
      " Finished\n",
      "\n"
     ]
    }
   ],
   "source": [
    "finalScore = 0\n",
    "outputLibraryList = []\n",
    "\n",
    "D_total = D+1\n",
    "with tqdm(total = D,desc='Generating output objects',ncols=700) as pbar:\n",
    "    while D>0:\n",
    "#         print(f' NSEEN: {NSEEN}')\n",
    "#         print(f' SEEN: {SEEN}')\n",
    "        m,x = find_max_credit(libraryList)\n",
    "        \n",
    "        if x==-1:\n",
    "            pbar.update(D_total)\n",
    "            break\n",
    "\n",
    "        chosenLibrary = libraryList.pop(x)\n",
    "    #     chosenLibrary.showDetails()\n",
    "\n",
    "        D -= chosenLibrary.signup\n",
    "        finalScore += chosenLibrary.tos\n",
    "        print(f'Add: {chosenLibrary.tos}')\n",
    "\n",
    "        cutoff = 0\n",
    "        if(chosenLibrary.tos == chosenLibrary.totalScore):\n",
    "            cutoff = len(chosenLibrary.indexes)\n",
    "        else:\n",
    "            s = 0\n",
    "            si = 0\n",
    "            while s!= chosenLibrary.tos:\n",
    "                s += chosenLibrary.scores[si]\n",
    "                si += 1\n",
    "            cutoff = si\n",
    "\n",
    "        outLib = outputLibrary(chosenLibrary.name[1:],chosenLibrary.indexes[:cutoff])    \n",
    "        outputLibraryList.append(outLib)\n",
    "        print(outLib.index,end=', ')\n",
    "\n",
    "        for book in chosenLibrary.indexes:\n",
    "            NSEEN.remove(book)\n",
    "            SEEN.append(book)\n",
    "\n",
    "        update_scores(libraryList,SEEN)\n",
    "        for lib in libraryList:\n",
    "            lib.getMetrics(daysLeft=D)\n",
    "        pbar.update(chosenLibrary.signup)\n",
    "    \n",
    "    \n",
    "\n",
    "print(' Finished\\n')\n",
    "        "
   ]
  },
  {
   "cell_type": "markdown",
   "metadata": {},
   "source": [
    "### Output"
   ]
  },
  {
   "cell_type": "code",
   "execution_count": 9,
   "metadata": {},
   "outputs": [
    {
     "name": "stdout",
     "output_type": "stream",
     "text": [
      " Final Score: 17\n",
      " Writing to a_example_result.txt\n",
      "\n",
      " Number of libraries: 2\n",
      "\n"
     ]
    },
    {
     "data": {
      "application/vnd.jupyter.widget-view+json": {
       "model_id": "4c4093e5125848c887b4cef07a15230f",
       "version_major": 2,
       "version_minor": 0
      },
      "text/plain": [
       "HBox(children=(IntProgress(value=0, max=2), HTML(value='')))"
      ]
     },
     "metadata": {},
     "output_type": "display_data"
    },
    {
     "name": "stdout",
     "output_type": "stream",
     "text": [
      "\n",
      " Results saved\n",
      "\n"
     ]
    }
   ],
   "source": [
    "# Filename\n",
    "output_filename = input_filename[:-4] + '_result.txt'\n",
    "\n",
    "# File write\n",
    "print(f' Final Score: {finalScore}')\n",
    "print(' Writing to {}\\n'.format(output_filename))\n",
    "\n",
    "f = open(output_filename,'w',newline='\\n')\n",
    "f.write(f'{len(outputLibraryList)}\\n')\n",
    "print(f' Number of libraries: {len(outputLibraryList)}\\n')\n",
    "\n",
    "for lib in tqdm(outputLibraryList):\n",
    "    f.write(f'{lib.index} {lib.nbooks}\\n')\n",
    "#     print(f'{lib.index} {lib.nbooks}\\n')    \n",
    "    f.write(' '.join(str(x) for x in lib.bookList))\n",
    "#     print(' '.join(str(x) for x in lib.bookList))\n",
    "    f.write('\\n')\n",
    "#     print('\\n')\n",
    "\n",
    "\n",
    "f.close()\n",
    "\n",
    "# Done\n",
    "print(' Results saved\\n')\n"
   ]
  }
 ],
 "metadata": {
  "kernelspec": {
   "display_name": "Python 3",
   "language": "python",
   "name": "python3"
  },
  "language_info": {
   "codemirror_mode": {
    "name": "ipython",
    "version": 3
   },
   "file_extension": ".py",
   "mimetype": "text/x-python",
   "name": "python",
   "nbconvert_exporter": "python",
   "pygments_lexer": "ipython3",
   "version": "3.7.4"
  }
 },
 "nbformat": 4,
 "nbformat_minor": 2
}
